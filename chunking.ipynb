{
 "cells": [
  {
   "cell_type": "code",
   "execution_count": null,
   "metadata": {},
   "outputs": [],
   "source": [
    "from dotenv import dotenv_values\n",
    "config = dotenv_values(\".env\")\n",
    "from chunking_evaluation.chunking import FixedTokenChunker, ClusterSemanticChunker, RecursiveTokenChunker, KamradtModifiedChunker \n",
    "\n",
    "with open('data/war_and_peace.txt', 'r', encoding='utf-8') as file:\n",
    "    text = file.read()\n",
    "\n",
    "fixed_chunker = FixedTokenChunker(chunk_size=100, chunk_overlap=20)\n",
    "rec_chunker = RecursiveTokenChunker(chunk_size=200, chunk_overlap=20)\n",
    "\n",
    "fixed_chunks = fixed_chunker.split_text(text)\n",
    "rec_chunks = rec_chunker.split_text(text)\n",
    "\n",
    "for i in range(5):"
   ]
  },
  {
   "cell_type": "code",
   "execution_count": 21,
   "metadata": {},
   "outputs": [],
   "source": [
    "from langchain_openai import AzureOpenAIEmbeddings\n",
    "\n",
    "embeddings = AzureOpenAIEmbeddings(\n",
    "    model=\"text-embedding-3-small\",\n",
    "    azure_endpoint=config.get(\"AZURE_EMBEDDING_ENDPOINT\"),\n",
    "    api_key=config.get(\"AZURE_EMBEDDING_API_KEY\")\n",
    ")"
   ]
  },
  {
   "cell_type": "code",
   "execution_count": null,
   "metadata": {},
   "outputs": [],
   "source": []
  },
  {
   "cell_type": "code",
   "execution_count": 17,
   "metadata": {},
   "outputs": [],
   "source": [
    "fixed_chunker = FixedTokenChunker(chunk_size=100, chunk_overlap=20)\n",
    "chunks= fixed_chunker.split_text(text)"
   ]
  },
  {
   "cell_type": "code",
   "execution_count": 15,
   "metadata": {},
   "outputs": [],
   "source": [
    "rec_chunker = RecursiveTokenChunker(chunk_size=400, chunk_overlap=20)\n",
    "chunks = rec_chunker.split_text(text)"
   ]
  },
  {
   "cell_type": "code",
   "execution_count": 26,
   "metadata": {},
   "outputs": [
    {
     "name": "stdout",
     "output_type": "stream",
     "text": [
      ".”\n",
      "\n",
      "“If they had known that you wished it, the entertainment would have\n",
      "been put off,” said the prince, who, like a wound-up clock, by force\n",
      "of habit said things he did not even wish to be believed. “Don’t tease! Well, and what has been decided about Novosíltsev’s\n",
      "dispatch? You know everything.” “What can one say about it?” replied the prince in a cold, listless\n",
      "tone. “What has been decided? They have decided that Buonaparte has\n",
      "-------------------------------------\n",
      "burnt his boats, and I believe that we are ready to burn ours.”\n",
      "-------------------------------------\n",
      "Prince Vasíli always spoke languidly, like an actor repeating a stale\n",
      "part. Anna Pávlovna Schérer on the contrary, despite her forty years, overflowed with animation and impulsiveness. To be an enthusiast had\n",
      "become her social vocation and, sometimes even when she did not\n",
      "feel like it, she became enthusiastic in order not to disappoint the expectations of those who knew her. The subdued smile which, though it\n",
      "did not suit her faded features, always played round her lips expressed,\n",
      "as in a spoiled child, a continual consciousness of her charming defect, which she neither wished, nor could, nor considered it necessary, to\n",
      "correct.\n",
      "-------------------------------------\n",
      "In the midst of a conversation on political matters Anna Pávlovna burst\n",
      "out:\n",
      "-------------------------------------\n",
      "“Oh, don’t speak to me of Austria. Perhaps I don’t understand\n",
      "things, but Austria never has wished, and does not wish, for war. She\n",
      "is betraying us! Russia alone must save Europe. Our gracious sovereign recognizes his high vocation and will be true to it. That is the one\n",
      "thing I have faith in! Our good and wonderful sovereign has to perform the noblest role on earth, and he is so virtuous and noble that God will\n",
      "not forsake him. He will fulfill his vocation and crush the hydra of revolution, which has become more terrible than ever in the person of\n",
      "this murderer and villain! We alone must avenge the blood of the just\n",
      "one.... Whom, I ask you, can we rely on?... England with her commercial spirit will not and cannot understand the Emperor Alexander’s\n",
      "loftiness of soul. She has refused to evacuate Malta. She wanted to\n",
      "find, and still seeks, some secret motive in our actions. What answer did Novosíltsev get? None. The English have not understood and cannot\n",
      "understand the self-abnegation of our Emperor who wants nothing for\n",
      "himself, but only desires the good of mankind. And what have they promised? Nothing! And what little they have promised they will not\n",
      "perform! Prussia has always declared that Buonaparte is invincible, and\n",
      "that all Europe is powerless before him.... And I don’t believe a word that Hardenburg says, or Haugwitz either. This famous Prussian\n",
      "neutrality is just a trap. I have faith only in God and the lofty\n",
      "destiny of our adored monarch. He will save Europe!”\n",
      "-------------------------------------\n"
     ]
    }
   ],
   "source": [
    "small_text = text[10000:40000]\n",
    "\n",
    "sem_chunker = ClusterSemanticChunker(max_chunk_size=400, embedding_function=embeddings.embed_documents)\n",
    "chunks = sem_chunker.split_text(small_text)\n",
    "\n",
    "for i in range(5):\n",
    "    print(chunks[i])\n",
    "    print(\"-------------------------------------\")"
   ]
  },
  {
   "cell_type": "code",
   "execution_count": 18,
   "metadata": {},
   "outputs": [
    {
     "name": "stdout",
     "output_type": "stream",
     "text": [
      " drawers, and feet in low slippers—was just at that\n",
      "charming age when a girl is no longer a child, though the child is not\n",
      "yet a young woman. Escaping from her father she ran to hide her flushed\n",
      "face in the lace of her mother’s mantilla—not paying the least\n",
      "attention to her severe remark—and began to laugh. She laughed, and in\n",
      "fragmentary sentences tried to explain about a doll which she produced\n",
      "from the folds of her frock\n",
      "-------------------------------------\n",
      "fragmentary sentences tried to explain about a doll which she produced\n",
      "from the folds of her frock.\n",
      "\n",
      "“Do you see?... My doll... Mimi... You see...” was all Natásha\n",
      "managed to utter (to her everything seemed funny). She leaned against\n",
      "her mother and burst into such a loud, ringing fit of laughter that even\n",
      "the prim visitor could not help joining in.\n",
      "\n",
      "“Now then, go away and take your monstrosity with you,” said the\n",
      "-------------------------------------\n",
      " in.\n",
      "\n",
      "“Now then, go away and take your monstrosity with you,” said the\n",
      "mother, pushing away her daughter with pretended sternness, and turning\n",
      "to the visitor she added: “She is my youngest girl.”\n",
      "\n",
      "Natásha, raising her face for a moment from her mother’s mantilla,\n",
      "glanced up at her through tears of laughter, and again hid her face.\n",
      "\n",
      "The visitor, compelled to look on at this family scene, thought it\n",
      "necessary to take some\n",
      "-------------------------------------\n",
      ".\n",
      "\n",
      "The visitor, compelled to look on at this family scene, thought it\n",
      "necessary to take some part in it.\n",
      "\n",
      "“Tell me, my dear,” said she to Natásha, “is Mimi a relation of\n",
      "yours? A daughter, I suppose?”\n",
      "\n",
      "Natásha did not like the visitor’s tone of condescension to childish\n",
      "things. She did not reply, but looked at her seriously.\n",
      "\n",
      "Meanwhile the younger generation: Borís, the officer, Anna\n",
      "Mikh\n",
      "-------------------------------------\n",
      " looked at her seriously.\n",
      "\n",
      "Meanwhile the younger generation: Borís, the officer, Anna\n",
      "Mikháylovna’s son; Nicholas, the undergraduate, the count’s eldest\n",
      "son; Sónya, the count’s fifteen-year-old niece, and little Pétya,\n",
      "his youngest boy, had all settled down in the drawing room and were\n",
      "obviously trying to restrain within the bounds of decorum the excitement\n",
      "and mirth that shone in all their faces. Evidently\n",
      "-------------------------------------\n"
     ]
    }
   ],
   "source": [
    "for i in range(5):\n",
    "    print(chunks[300+i])\n",
    "    print(\"-------------------------------------\")"
   ]
  }
 ],
 "metadata": {
  "kernelspec": {
   "display_name": ".venv",
   "language": "python",
   "name": "python3"
  },
  "language_info": {
   "codemirror_mode": {
    "name": "ipython",
    "version": 3
   },
   "file_extension": ".py",
   "mimetype": "text/x-python",
   "name": "python",
   "nbconvert_exporter": "python",
   "pygments_lexer": "ipython3",
   "version": "3.13.2"
  }
 },
 "nbformat": 4,
 "nbformat_minor": 2
}
