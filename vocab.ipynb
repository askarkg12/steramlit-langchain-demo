{
 "cells": [
  {
   "cell_type": "code",
   "execution_count": 17,
   "metadata": {},
   "outputs": [],
   "source": [
    "vocab = [\n",
    "    \"hello\",\n",
    "    \"world\",\n",
    "    \"python\",\n",
    "    \"java\",\n",
    "    \"javascript\",\n",
    "    \"ruby\",\n",
    "    \"php\",\n",
    "    \"c++\",\n",
    "    \"c#\",\n",
    "    \"c\",\n",
    "    \"c++\",\n",
    "    \"c#\",\n",
    "    \"c\",\n",
    "    \"c++\",\n",
    "    \"c#\",\n",
    "    \"c\",\n",
    "    \"c++\",\n",
    "    \"marvin\",\n",
    "    \"askar\",\n",
    "    \"samuel\",\n",
    "    \"matt\",\n",
    "    \"jason\",\n",
    "    \"jeff\",\n",
    "]"
   ]
  },
  {
   "cell_type": "code",
   "execution_count": 28,
   "metadata": {},
   "outputs": [
    {
     "data": {
      "text/plain": [
       "'marvin'"
      ]
     },
     "execution_count": 28,
     "metadata": {},
     "output_type": "execute_result"
    }
   ],
   "source": [
    "vocab[17]"
   ]
  },
  {
   "cell_type": "code",
   "execution_count": 19,
   "metadata": {},
   "outputs": [],
   "source": [
    "word_to_idx = {word: i for i, word in enumerate(vocab)}\n"
   ]
  },
  {
   "cell_type": "code",
   "execution_count": 25,
   "metadata": {},
   "outputs": [],
   "source": [
    "word_to_idx.get(\"afta\")"
   ]
  },
  {
   "cell_type": "code",
   "execution_count": 29,
   "metadata": {},
   "outputs": [],
   "source": [
    "embeddings = np.random.randn(len(vocab), 3)"
   ]
  },
  {
   "cell_type": "code",
   "execution_count": 30,
   "metadata": {},
   "outputs": [
    {
     "data": {
      "text/plain": [
       "array([[ 1.67862433, -0.81737811, -1.0334525 ],\n",
       "       [ 0.04622968,  0.19751724,  0.44513383],\n",
       "       [ 0.4569595 ,  0.08987191,  0.08792245],\n",
       "       [-0.91641038,  0.08203741, -2.09494798],\n",
       "       [-0.24634847, -2.60250144, -1.53112848],\n",
       "       [-0.18678903, -1.02148603,  1.94545817],\n",
       "       [ 0.72794402, -0.00830676, -1.01778822],\n",
       "       [ 0.04685119,  0.51443601,  0.21086756],\n",
       "       [-0.03503362, -0.26464255, -2.06910264],\n",
       "       [-0.03878702,  0.18452774,  0.49385602],\n",
       "       [-0.34212934, -0.18661585,  0.10206404],\n",
       "       [ 0.82410559,  0.98435061, -0.76580821],\n",
       "       [ 2.11577679, -0.78859785, -1.80680222],\n",
       "       [-1.73806228,  0.54999547,  0.96372973],\n",
       "       [-0.5669233 ,  0.31131324,  0.05240258],\n",
       "       [-0.84498999,  1.83083617,  1.54561508],\n",
       "       [-0.72885565, -0.17987479,  1.43366083],\n",
       "       [ 0.63815438, -0.82537974,  0.72431451],\n",
       "       [ 0.06644708, -0.32418964, -0.27878473],\n",
       "       [-0.12951123, -1.24000599, -1.25594035],\n",
       "       [ 0.32738615,  1.45449269,  0.53447394],\n",
       "       [-0.67379267,  0.68028971,  0.84936454],\n",
       "       [-1.10789291,  1.53947816,  0.57610747]])"
      ]
     },
     "execution_count": 30,
     "metadata": {},
     "output_type": "execute_result"
    }
   ],
   "source": [
    "embeddings"
   ]
  },
  {
   "cell_type": "code",
   "execution_count": 37,
   "metadata": {},
   "outputs": [],
   "source": [
    "vocab_size = len(vocab)\n",
    "\n",
    "import numpy as np\n",
    "\n",
    "proj_matrix = np.random.randn(3, vocab_size)"
   ]
  },
  {
   "cell_type": "code",
   "execution_count": 31,
   "metadata": {},
   "outputs": [],
   "source": [
    "emb = embeddings[17]"
   ]
  },
  {
   "cell_type": "code",
   "execution_count": 36,
   "metadata": {},
   "outputs": [
    {
     "data": {
      "text/plain": [
       "(3,)"
      ]
     },
     "execution_count": 36,
     "metadata": {},
     "output_type": "execute_result"
    }
   ],
   "source": [
    "emb.shape"
   ]
  },
  {
   "cell_type": "code",
   "execution_count": 38,
   "metadata": {},
   "outputs": [],
   "source": [
    "# emb (shape [1, 3] @ proj_matrix (shape [3, 23]) = [1, 23])\n",
    "probs = emb @ proj_matrix"
   ]
  },
  {
   "cell_type": "code",
   "execution_count": 43,
   "metadata": {},
   "outputs": [
    {
     "name": "stdout",
     "output_type": "stream",
     "text": [
      "probs.shape: (23,)\n",
      "probs.argmax(): 12\n",
      "vocab[probs.argmax()]: c\n"
     ]
    }
   ],
   "source": [
    "print(f\"probs.shape: {probs.shape}\")\n",
    "print(f\"probs.argmax(): {probs.argmax()}\")\n",
    "print(f\"vocab[probs.argmax()]: {vocab[probs.argmax()]}\")"
   ]
  },
  {
   "cell_type": "code",
   "execution_count": 46,
   "metadata": {},
   "outputs": [],
   "source": [
    "emb1 = np.random.randn(64)\n",
    "emb2 = np.random.randn(64)"
   ]
  },
  {
   "cell_type": "code",
   "execution_count": 51,
   "metadata": {},
   "outputs": [],
   "source": [
    "emb1 = emb1/np.linalg.norm(emb1)\n",
    "emb2 = emb2/np.linalg.norm(emb2)"
   ]
  },
  {
   "cell_type": "code",
   "execution_count": 53,
   "metadata": {},
   "outputs": [
    {
     "data": {
      "text/plain": [
       "np.float64(-0.03244542090650396)"
      ]
     },
     "execution_count": 53,
     "metadata": {},
     "output_type": "execute_result"
    }
   ],
   "source": [
    "np.dot(emb1, emb2)"
   ]
  },
  {
   "cell_type": "code",
   "execution_count": 54,
   "metadata": {},
   "outputs": [],
   "source": [
    "vec = np.array([1, 2, 3])"
   ]
  },
  {
   "cell_type": "code",
   "execution_count": 56,
   "metadata": {},
   "outputs": [],
   "source": [
    "vec_size = 1**2 + 2**2 + 3**2"
   ]
  },
  {
   "cell_type": "code",
   "execution_count": 59,
   "metadata": {},
   "outputs": [
    {
     "data": {
      "text/plain": [
       "np.float64(3.7416573867739413)"
      ]
     },
     "execution_count": 59,
     "metadata": {},
     "output_type": "execute_result"
    }
   ],
   "source": [
    "np.sqrt(vec_size)"
   ]
  },
  {
   "cell_type": "code",
   "execution_count": 58,
   "metadata": {},
   "outputs": [
    {
     "data": {
      "text/plain": [
       "np.float64(3.7416573867739413)"
      ]
     },
     "execution_count": 58,
     "metadata": {},
     "output_type": "execute_result"
    }
   ],
   "source": [
    "np.linalg.norm(vec)"
   ]
  },
  {
   "cell_type": "code",
   "execution_count": 60,
   "metadata": {},
   "outputs": [],
   "source": [
    "vec_normalised = vec/np.sqrt(vec_size)"
   ]
  },
  {
   "cell_type": "code",
   "execution_count": 61,
   "metadata": {},
   "outputs": [
    {
     "name": "stdout",
     "output_type": "stream",
     "text": [
      "og vector: [1 2 3]\n",
      "normalised vector: [0.26726124 0.53452248 0.80178373]\n"
     ]
    }
   ],
   "source": [
    "print(f'og vector: {vec}')\n",
    "print(f'normalised vector: {vec_normalised}')"
   ]
  },
  {
   "cell_type": "code",
   "execution_count": 64,
   "metadata": {},
   "outputs": [],
   "source": [
    "emb1\n",
    "emb2\n",
    "emb3 = emb1+emb2"
   ]
  },
  {
   "cell_type": "code",
   "execution_count": 65,
   "metadata": {},
   "outputs": [],
   "source": [
    "emb3 = emb3/np.linalg.norm(emb3)"
   ]
  }
 ],
 "metadata": {
  "kernelspec": {
   "display_name": ".venv",
   "language": "python",
   "name": "python3"
  },
  "language_info": {
   "codemirror_mode": {
    "name": "ipython",
    "version": 3
   },
   "file_extension": ".py",
   "mimetype": "text/x-python",
   "name": "python",
   "nbconvert_exporter": "python",
   "pygments_lexer": "ipython3",
   "version": "3.13.2"
  }
 },
 "nbformat": 4,
 "nbformat_minor": 2
}
