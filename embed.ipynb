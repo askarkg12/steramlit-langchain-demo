{
 "cells": [
  {
   "cell_type": "code",
   "execution_count": null,
   "metadata": {},
   "outputs": [],
   "source": [
    "from dotenv import dotenv_values\n",
    "config = dotenv_values(\".env\")\n",
    "from langchain_openai import AzureOpenAIEmbeddings\n",
    "\n",
    "embeddings = AzureOpenAIEmbeddings(\n",
    "    model=\"text-embedding-3-small\",\n",
    "    azure_endpoint=config.get(\"AZURE_EMBEDDING_ENDPOINT\"),\n",
    "    api_key=config.get(\"AZURE_EMBEDDING_API_KEY\")\n",
    ")"
   ]
  },
  {
   "cell_type": "code",
   "execution_count": 8,
   "metadata": {},
   "outputs": [],
   "source": [
    "import numpy as np"
   ]
  },
  {
   "cell_type": "code",
   "execution_count": 9,
   "metadata": {},
   "outputs": [],
   "source": [
    "hello_embed = embeddings.embed_query(\"Hello, world!\")\n",
    "\n",
    "bye_embed = embeddings.embed_query(\"Bye, world!\")\n",
    "\n",
    "hi_embed = embeddings.embed_query(\"Hi, world!\")"
   ]
  },
  {
   "cell_type": "code",
   "execution_count": 11,
   "metadata": {},
   "outputs": [],
   "source": [
    "hello_embed = np.array(hello_embed)\n",
    "hi_embed = np.array(hi_embed)\n",
    "bye_embed = np.array(bye_embed)"
   ]
  },
  {
   "cell_type": "code",
   "execution_count": 15,
   "metadata": {},
   "outputs": [
    {
     "name": "stdout",
     "output_type": "stream",
     "text": [
      "hello magnitude: 1.0000000406837233\n",
      "hi magnitude: 0.9999999324950786\n",
      "bye magnitude: 1.0000000197725742\n"
     ]
    }
   ],
   "source": [
    "print(f\"hello magnitude: {np.linalg.norm(hello_embed)}\")\n",
    "print(f\"hi magnitude: {np.linalg.norm(hi_embed)}\")\n",
    "print(f\"bye magnitude: {np.linalg.norm(bye_embed)}\")"
   ]
  },
  {
   "cell_type": "code",
   "execution_count": 13,
   "metadata": {},
   "outputs": [
    {
     "name": "stdout",
     "output_type": "stream",
     "text": [
      "Hi and hello: 0.8020760969287266\n",
      "Bye and hello: 0.4932629256090393\n",
      "Hi and bye: 0.6295159724598807\n"
     ]
    }
   ],
   "source": [
    "print(f\"Hi and hello: {np.dot(hello_embed, hi_embed)}\")\n",
    "print(f\"Bye and hello: {np.dot(hello_embed, bye_embed)}\")\n",
    "print(f\"Hi and bye: {np.dot(hi_embed, bye_embed)}\")\n",
    "\n"
   ]
  },
  {
   "cell_type": "code",
   "execution_count": 19,
   "metadata": {},
   "outputs": [],
   "source": [
    "lorem_text = \"Uganda is a landlocked country in East Africa whose diverse landscape encompasses the snow-capped Rwenzori Mountains and immense Lake Victoria. Its abundant wildlife includes chimpanzees as well as rare birds. Remote Bwindi Impenetrable National Park is a renowned mountain gorilla sanctuary. Murchison Falls National Park in the northwest is known for its 43m-tall waterfall and wildlife such as hippos.\"\n",
    "lorem_embed = np.array(embeddings.embed_query(lorem_text))"
   ]
  },
  {
   "cell_type": "code",
   "execution_count": 20,
   "metadata": {},
   "outputs": [
    {
     "name": "stdout",
     "output_type": "stream",
     "text": [
      "lorem_embed and hello: 0.04240616560348247\n",
      "lorem_embed and hi: 0.09444964782851624\n",
      "lorem_embed and bye: 0.07227772703831098\n"
     ]
    }
   ],
   "source": [
    "print(f\"lorem_embed and hello: {np.dot(lorem_embed, hello_embed)}\")\n",
    "print(f\"lorem_embed and hi: {np.dot(lorem_embed, hi_embed)}\")\n",
    "print(f\"lorem_embed and bye: {np.dot(lorem_embed, bye_embed)}\")"
   ]
  },
  {
   "cell_type": "code",
   "execution_count": 22,
   "metadata": {},
   "outputs": [],
   "source": [
    "store_docs = [\n",
    "\"Uganda is a landlocked country in East Africa whose diverse landscape encompasses the snow-capped Rwenzori Mountains and immense Lake Victoria. Its abundant wildlife includes chimpanzees as well as rare birds. \",\n",
    "\"Formula One is the highest class of worldwide racing for open-wheel single-seater formula racing cars sanctioned by the Fédération Internationale de l'Automobile.\",\n",
    "\"Kampala is Uganda's national and commercial capital bordering Lake Victoria, Africa's largest lake. Hills covered with red-tile villas and trees surround an urban centre of contemporary skyscrapers\",\n",
    "\"Germany is a Western European country with a landscape of forests, rivers, mountain ranges and North Sea beaches. It has over 2 millennia of history.\"\n",
    "]\n",
    "\n",
    "store_embeddings = embeddings.embed_documents(store_docs)\n"
   ]
  },
  {
   "cell_type": "code",
   "execution_count": 24,
   "metadata": {},
   "outputs": [],
   "source": [
    "store = np.array(store_embeddings)"
   ]
  },
  {
   "cell_type": "code",
   "execution_count": 25,
   "metadata": {},
   "outputs": [
    {
     "data": {
      "text/plain": [
       "array([[ 0.01806934, -0.01006123,  0.04370892, ...,  0.00443219,\n",
       "        -0.05161   ,  0.03146809],\n",
       "       [-0.03841206,  0.04251046,  0.01043942, ...,  0.04125585,\n",
       "        -0.01247294,  0.01403075],\n",
       "       [-0.00436758, -0.01459705,  0.07780901, ..., -0.00992012,\n",
       "        -0.03556983,  0.02571263],\n",
       "       [-0.01069064,  0.0028758 ,  0.07976863, ..., -0.03156284,\n",
       "        -0.01689748, -0.00552643]], shape=(4, 1536))"
      ]
     },
     "execution_count": 25,
     "metadata": {},
     "output_type": "execute_result"
    }
   ],
   "source": [
    "store"
   ]
  },
  {
   "cell_type": "code",
   "execution_count": 35,
   "metadata": {},
   "outputs": [],
   "source": [
    "def get_query_results(query):\n",
    "    query_embed = np.array(embeddings.embed_query(query))\n",
    "    query_embed = query_embed / np.linalg.norm(query_embed)\n",
    "\n",
    "    scores = np.dot(store_embeddings, query_embed)\n",
    "\n",
    "    index = np.argmax(scores)\n",
    "\n",
    "    results = {score: doc for score, doc in zip(scores, store_docs)}\n",
    "\n",
    "    return results, store_docs[index]\n",
    "\n",
    "\n",
    "\n"
   ]
  },
  {
   "cell_type": "code",
   "execution_count": 40,
   "metadata": {},
   "outputs": [],
   "source": [
    "query = \"Who is Jovery Musevenee?\"\n",
    "\n",
    "results = get_query_results(query)"
   ]
  },
  {
   "cell_type": "code",
   "execution_count": null,
   "metadata": {},
   "outputs": [],
   "source": []
  },
  {
   "cell_type": "code",
   "execution_count": 41,
   "metadata": {},
   "outputs": [
    {
     "data": {
      "text/plain": [
       "({np.float64(0.2630237884321371): 'Uganda is a landlocked country in East Africa whose diverse landscape encompasses the snow-capped Rwenzori Mountains and immense Lake Victoria. Its abundant wildlife includes chimpanzees as well as rare birds. ',\n",
       "  np.float64(0.018525482999005617): \"Formula One is the highest class of worldwide racing for open-wheel single-seater formula racing cars sanctioned by the Fédération Internationale de l'Automobile.\",\n",
       "  np.float64(0.23078057396309537): \"Kampala is Uganda's national and commercial capital bordering Lake Victoria, Africa's largest lake. Hills covered with red-tile villas and trees surround an urban centre of contemporary skyscrapers\",\n",
       "  np.float64(-0.018048681673581864): 'Germany is a Western European country with a landscape of forests, rivers, mountain ranges and North Sea beaches. It has over 2 millennia of history.'},\n",
       " 'Uganda is a landlocked country in East Africa whose diverse landscape encompasses the snow-capped Rwenzori Mountains and immense Lake Victoria. Its abundant wildlife includes chimpanzees as well as rare birds. ')"
      ]
     },
     "execution_count": 41,
     "metadata": {},
     "output_type": "execute_result"
    }
   ],
   "source": [
    "results"
   ]
  },
  {
   "cell_type": "code",
   "execution_count": 42,
   "metadata": {},
   "outputs": [
    {
     "data": {
      "text/plain": [
       "(4, 1536)"
      ]
     },
     "execution_count": 42,
     "metadata": {},
     "output_type": "execute_result"
    }
   ],
   "source": [
    "store.shape"
   ]
  },
  {
   "cell_type": "code",
   "execution_count": 47,
   "metadata": {},
   "outputs": [],
   "source": [
    "import chromadb\n",
    "\n",
    "chroma_client = chromadb.Client()"
   ]
  },
  {
   "cell_type": "code",
   "execution_count": 72,
   "metadata": {},
   "outputs": [],
   "source": [
    "from chromadb.utils import embedding_functions\n",
    "\n",
    "azure_openai_ef = embedding_functions.OpenAIEmbeddingFunction(\n",
    "    api_base=config.get(\"AZURE_EMBEDDING_BASE\"),\n",
    "    deployment_id=\"text-embedding-3-small\",\n",
    "    api_key=config.get(\"AZURE_EMBEDDING_API_KEY\"),\n",
    "    api_type=\"azure\",\n",
    "    api_version=\"2023-05-15\",  # Use appropriate API version\n",
    "    model_name=\"text-embedding-3-small\"  # Your deployed model name in Azure\n",
    ")"
   ]
  },
  {
   "cell_type": "code",
   "execution_count": 74,
   "metadata": {},
   "outputs": [],
   "source": [
    "collection = chroma_client.get_or_create_collection(name=\"test2\", embedding_function=azure_openai_ef)"
   ]
  },
  {
   "cell_type": "code",
   "execution_count": 75,
   "metadata": {},
   "outputs": [],
   "source": [
    "collection.add(documents=store_docs, ids = [f\"id{i}\" for i in range(len(store_docs))])"
   ]
  },
  {
   "cell_type": "code",
   "execution_count": 76,
   "metadata": {},
   "outputs": [
    {
     "data": {
      "text/plain": [
       "{'ids': [['id0', 'id2']],\n",
       " 'embeddings': None,\n",
       " 'documents': [['Uganda is a landlocked country in East Africa whose diverse landscape encompasses the snow-capped Rwenzori Mountains and immense Lake Victoria. Its abundant wildlife includes chimpanzees as well as rare birds. ',\n",
       "   \"Kampala is Uganda's national and commercial capital bordering Lake Victoria, Africa's largest lake. Hills covered with red-tile villas and trees surround an urban centre of contemporary skyscrapers\"]],\n",
       " 'uris': None,\n",
       " 'included': ['metadatas', 'documents', 'distances'],\n",
       " 'data': None,\n",
       " 'metadatas': [[None, None]],\n",
       " 'distances': [[0.6812670230865479, 0.9465869665145874]]}"
      ]
     },
     "execution_count": 76,
     "metadata": {},
     "output_type": "execute_result"
    }
   ],
   "source": [
    "collection.query(query_texts=[\"What is Uganda?\"], n_results=2, where={\"source\": {\"$ne\": \"wikipedia\"}})"
   ]
  }
 ],
 "metadata": {
  "kernelspec": {
   "display_name": ".venv",
   "language": "python",
   "name": "python3"
  },
  "language_info": {
   "codemirror_mode": {
    "name": "ipython",
    "version": 3
   },
   "file_extension": ".py",
   "mimetype": "text/x-python",
   "name": "python",
   "nbconvert_exporter": "python",
   "pygments_lexer": "ipython3",
   "version": "3.13.2"
  }
 },
 "nbformat": 4,
 "nbformat_minor": 2
}
